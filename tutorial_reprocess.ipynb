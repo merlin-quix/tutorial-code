{
  "nbformat": 4,
  "nbformat_minor": 0,
  "metadata": {
    "colab": {
      "provenance": [],
      "authorship_tag": "ABX9TyN4DMmPBcnxm333vpxwDbs9",
      "include_colab_link": true
    },
    "kernelspec": {
      "name": "python3",
      "display_name": "Python 3"
    },
    "language_info": {
      "name": "python"
    }
  },
  "cells": [
    {
      "cell_type": "markdown",
      "metadata": {
        "id": "view-in-github",
        "colab_type": "text"
      },
      "source": [
        "<a href=\"https://colab.research.google.com/github/merlin-quix/tutorial-code/blob/main/tutorial_reprocess.ipynb\" target=\"_parent\"><img src=\"https://colab.research.google.com/assets/colab-badge.svg\" alt=\"Open In Colab\"/></a>"
      ]
    },
    {
      "cell_type": "markdown",
      "source": [
        "1. Install quixstreams, clone the tutorial repo and switch to the draft branch."
      ],
      "metadata": {
        "id": "pXYeBaDPwl4f"
      }
    },
    {
      "cell_type": "code",
      "source": [
        "import os\n",
        "!pip install quixstreams\n",
        "!git clone https://github.com/quixio/tutorial-code.git\n",
        "os.chdir('tutorial-code')\n",
        "!git checkout tutorial/reprocess-events\n",
        "os.chdir('reprocess-events')"
      ],
      "metadata": {
        "id": "i_6WnVzOw4DP"
      },
      "execution_count": null,
      "outputs": []
    },
    {
      "cell_type": "markdown",
      "source": [
        "2. Import the libraries, read a CSV of raw GPS Trackpoints and send them to a Kafka topic"
      ],
      "metadata": {
        "id": "bj7wQIJLv2ER"
      }
    },
    {
      "cell_type": "code",
      "execution_count": null,
      "metadata": {
        "id": "6sTHY1G6t1Ag"
      },
      "outputs": [],
      "source": [
        "import pandas as pd\n",
        "import time\n",
        "import datetime as dt\n",
        "import quixstreams as qx\n",
        "\n",
        "# Initialize the Quix Streams client for LOCAL Kafka\n",
        "# client = qx.KafkaStreamingClient('127.0.0.1:9092')\n",
        "\n",
        "# Initialize the Quix Streams client for Quix.io Kafka\n",
        "token = 'sdk-76d8bae1702444fd80232804644ba544'\n",
        "client = qx.QuixStreamingClient(token)\n",
        "client\n",
        "\n",
        "# Initialize the destination topic\n",
        "print(\"Initializing topic\")\n",
        "topic_producer = client.get_topic_producer('raw-trackpoints')\n",
        "output_stream = topic_producer.create_stream()\n",
        "\n",
        "print(f'Initialized Quix Streams client at {dt.datetime.utcnow()}')\n",
        "\n",
        "# Read in the CSV file\n",
        "df = pd.read_csv(\"/content/tutorial-code/reprocess-events/go_track_trackspoints.csv\")\n",
        "\n",
        "for i in range(len(df)):\n",
        "    # Create small data frame for each message\n",
        "    df_r = df.iloc[[i]]\n",
        "\n",
        "    # Print the message so you can see what is being sent\n",
        "    print(\"Sending Message: \\n\", df_r.to_markdown())\n",
        "\n",
        "    # Send the data with the Quix Streams client\n",
        "    output_stream.timeseries.publish(df_r)\n",
        "\n",
        "    # Optionally wait for half a second to slow down the stream\n",
        "    # so that we can see what is happening.\n",
        "    time.sleep(0.5)"
      ]
    },
    {
      "cell_type": "markdown",
      "source": [
        "3. Consume messages from the raw trackpoints topic and calculate distance travelled and write it to a new downstream topic"
      ],
      "metadata": {
        "id": "bRvtmVJ809a4"
      }
    },
    {
      "cell_type": "code",
      "source": [
        "from geopy.distance import distance\n",
        "from collections import deque\n",
        "\n",
        "#1 — Initialize the Quix Streams client (for standalone Kafka)\n",
        "# client = qx.KafkaStreamingClient('127.0.0.1:9092')\n",
        "\n",
        "#2 — Initialize a Quix Streams consumer to read from the predictions topic (with some extra commit settings)\n",
        "commit_settings = qx.CommitOptions()\n",
        "commit_settings.auto_commit_enabled = False\n",
        "topic_consumer = client.get_topic_consumer(\"raw-trackpoints\", commit_settings=commit_settings,auto_offset_reset=qx.AutoOffsetReset.Earliest)\n",
        "\n",
        "#3 — Initialize a Quix Streams producer for sending predictions to the predictions topic\n",
        "print(\"Initializing producer...\")\n",
        "topic_producer = client.get_topic_producer('distance-calcs')\n",
        "output_stream = topic_producer.create_stream()\n",
        "\n",
        "print(f\"Initialized Kafka producer at {dt.datetime.utcnow()}\")\n",
        "\n",
        "# Initialize variables for calculating the total distance traveled\n",
        "total_distance = 0.0\n",
        "last_location = None\n",
        "location_buffer = deque(maxlen=10)\n",
        "\n",
        "def on_dataframe_received_handler(stream_consumer: qx.StreamConsumer, df: pd.DataFrame):\n",
        "    global total_distance\n",
        "    global last_location\n",
        "    global location_buffer\n",
        "    # Log the receipt of the message in a human-readable format\\\n",
        "    # print(\"Data received: \\n\", df.to_markdown(), \"\\n\\n\")\n",
        "\n",
        "    # Extract the latitude and longitude coordinates from the message\n",
        "    latitude = df[\"latitude\"]\n",
        "    longitude = df[\"longitude\"]\n",
        "    location = (float(latitude), float(longitude))\n",
        "\n",
        "    # Add the current location to the buffer\n",
        "    location_buffer.append(location)\n",
        "\n",
        "    # Calculate the distance between the current location and the last location, and update the total distance\n",
        "    if last_location is not None and len(location_buffer) == location_buffer.maxlen:\n",
        "        distance_traveled = distance(location_buffer[0], location_buffer[-1]).kilometers\n",
        "        total_distance += distance_traveled\n",
        "\n",
        "    # Update the last location for the next iteration\n",
        "    last_location = location_buffer[-1]\n",
        "\n",
        "    # Send the timeseries data using the built-in properties\n",
        "    data = qx.TimeseriesData()\n",
        "    data.add_timestamp(dt.datetime.utcnow()) \\\n",
        "        .add_value(\"distance\", float(total_distance)) \\\n",
        "        .add_value(\"track_id\", int(df['track_id']))\n",
        "\n",
        "    output_stream.timeseries.publish(data)\n",
        "    # Print the current total distance traveled\n",
        "    print(f'Sending results: | timestamp: [{dt.datetime.utcnow()}] | total distance so far: [{total_distance}] | device id: [{df[\"track_id\"]}]  |')\n",
        "\n",
        "\n",
        "def on_stream_received_handler(stream_consumer: qx.StreamConsumer):\n",
        "    # Subscribe to new DataFrames being received\n",
        "    stream_consumer.timeseries.on_dataframe_received = on_dataframe_received_handler\n",
        "\n",
        "# Subscribe to new streams being received\n",
        "topic_consumer.on_stream_received = on_stream_received_handler\n",
        "\n",
        "print(\"Listening to streams. Press CTRL-C to exit.\")\n",
        "\n",
        "# Handle termination signals and provide a graceful exit\n",
        "qx.App.run()"
      ],
      "metadata": {
        "id": "fuddoG5N1Npu"
      },
      "execution_count": null,
      "outputs": []
    },
    {
      "cell_type": "markdown",
      "source": [
        "4a. Consume the distance calculations and incrementally update my PostGres DB (in Railway) with the totals for each device."
      ],
      "metadata": {
        "id": "CnE7V8It7muv"
      }
    },
    {
      "cell_type": "markdown",
      "source": [
        "Railyway PostGres instance URL: https://railway.app/project/856071f2-e806-4a76-a138-d7d179d2e1e8/plugin/957afb6c-cbcc-499d-92c7-1c039c255702/Data"
      ],
      "metadata": {
        "id": "hLFwxvUb79ch"
      }
    },
    {
      "cell_type": "code",
      "source": [
        "import psycopg2\n",
        "\n",
        "# Create a connection to the downstream database\n",
        "conn = psycopg2.connect(\n",
        "    host='containers-us-west-204.railway.app',\n",
        "    port=6307,\n",
        "    dbname='railway',\n",
        "    user='postgres',\n",
        "    password='pCnASnXCIXtP35iCOf1g'\n",
        ")\n",
        "\n",
        "# Create a cursor object to execute SQL statements\n",
        "cur = conn.cursor()\n",
        "\n",
        "#2 — Initialize a Quix Streams consumer to read from the predictions topic (with some extra commit settings)\n",
        "commit_settings = qx.CommitOptions()\n",
        "commit_settings.auto_commit_enabled = False\n",
        "topic_consumer = client.get_topic_consumer(\"distance-calcs\", commit_settings=commit_settings,auto_offset_reset=qx.AutoOffsetReset.Earliest)\n",
        "\n",
        "def on_dataframe_received_handler(stream_consumer: qx.StreamConsumer, df: pd.DataFrame):\n",
        "    # Log the prediction in a human-readable format\n",
        "    print(\"Distance calc received: \\n\", df.to_markdown(), \"\\n\\n\")\n",
        "    print(\"Updating DB...\")\n",
        "    cur.execute(f\"SELECT * FROM dist_calc WHERE tracking_id = {int(df['track_id'])};\")\n",
        "    existing_record = cur.fetchone()\n",
        "\n",
        "    # Check if a record with the ID \"123\" already exists\n",
        "    if existing_record is None:\n",
        "        # Create a new record\n",
        "        print(f\"Attempting to INSERT INTO dist_calc (tracking_id, distance) VALUES ({int(df['track_id'])}, {float(df['distance'])});\")\n",
        "        cur.execute(f\"INSERT INTO dist_calc (tracking_id, distance) VALUES ({int(df['track_id'])}, {float(df['distance'])});\")\n",
        "    else:\n",
        "        # Update the existing record\n",
        "        print(f\"Attempting to UPDATE dist_calc SET distance = {float(df['distance'])} WHERE tracking_id = {int(df['track_id'])}\")\n",
        "        cur.execute(f\"UPDATE dist_calc SET distance = {float(df['distance'])} WHERE tracking_id = {int(df['track_id'])}\")\n",
        "    conn.commit()\n",
        "\n",
        "def on_stream_received_handler(stream_consumer: qx.StreamConsumer):\n",
        "    # Subscribe to new DataFrames being received\n",
        "    stream_consumer.timeseries.on_dataframe_received = on_dataframe_received_handler\n",
        "\n",
        "# Subscribe to new streams being received\n",
        "topic_consumer.on_stream_received = on_stream_received_handler\n",
        "\n",
        "print(\"Listening to streams. Press CTRL-C to exit.\")\n",
        "\n",
        "# Handle termination signals and provide a graceful exit\n",
        "qx.App.run()"
      ],
      "metadata": {
        "id": "QEtr-trt785D"
      },
      "execution_count": null,
      "outputs": []
    },
    {
      "cell_type": "markdown",
      "source": [
        "4b. Consume the distance calculations and incrementally update SQllite DB (in Railway) !!Running into threading errors"
      ],
      "metadata": {
        "id": "m15rTQgG_OON"
      }
    },
    {
      "cell_type": "code",
      "source": [
        "import sqlite3\n",
        "import pandas as pd\n",
        "import time\n",
        "import datetime as dt\n",
        "import quixstreams as qx\n",
        "import threading\n",
        "\n",
        "conn = sqlite3.connect('distance-calcs.db')\n",
        "\n",
        "# Initialize the Quix Streams client for LOCAL Kafka\n",
        "# client = qx.KafkaStreamingClient('127.0.0.1:9092')\n",
        "\n",
        "# Initialize the Quix Streams client for Quix.io Kafka\n",
        "token = 'sdk-76d8bae1702444fd80232804644ba544'\n",
        "client = qx.QuixStreamingClient(token)\n",
        "client\n",
        "\n",
        "cur = conn.cursor()\n",
        "\n",
        "# create a new table if it doesn't already exist.\n",
        "# cur.execute('''CREATE TABLE IF NOT EXISTS dist_calc\n",
        "#                 (track_id INTEGER PRIMARY KEY, distance REAL)''')\n",
        "\n",
        "#2 — Initialize a Quix Streams consumer to read from the predictions topic (with some extra commit settings)\n",
        "commit_settings = qx.CommitOptions()\n",
        "commit_settings.auto_commit_enabled = False\n",
        "topic_consumer = client.get_topic_consumer(\"distance-calcs\", commit_settings=commit_settings,auto_offset_reset=qx.AutoOffsetReset.Earliest)\n",
        "\n",
        "def on_dataframe_received_handler(stream_consumer: qx.StreamConsumer, df: pd.DataFrame):\n",
        "    # Log the prediction in a human-readable format\n",
        "    print(\"Distance calc received: \\n\", df.to_markdown(), \"\\n\\n\")\n",
        "    print(\"Updating DB...\")\n",
        "    cur.execute(f\"SELECT * FROM dist_calc WHERE tracking_id = {int(df['track_id'])};\")\n",
        "    existing_record = cur.fetchone()\n",
        "\n",
        "    # Check if a record with the ID \"123\" already exists\n",
        "    if existing_record is None:\n",
        "        # Create a new record\n",
        "        print(f\"Attempting to INSERT INTO dist_calc (tracking_id, distance) VALUES ({int(df['track_id'])}, {float(df['distance'])});\")\n",
        "        cur.execute(f\"INSERT INTO dist_calc (tracking_id, distance) VALUES ({int(df['track_id'])}, {float(df['distance'])});\")\n",
        "    else:\n",
        "        # Update the existing record\n",
        "        print(f\"Attempting to UPDATE dist_calc SET distance = {float(df['distance'])} WHERE tracking_id = {int(df['track_id'])}\")\n",
        "        cur.execute(f\"UPDATE dist_calc SET distance = {float(df['distance'])} WHERE tracking_id = {int(df['track_id'])}\")\n",
        "    conn.commit()\n",
        "    conn.close()\n",
        "\n",
        "def on_stream_received_handler(stream_consumer: qx.StreamConsumer):\n",
        "    # Subscribe to new DataFrames being received\n",
        "    stream_consumer.timeseries.on_dataframe_received = on_dataframe_received_handler\n",
        "\n",
        "# Subscribe to new streams being received\n",
        "topic_consumer.on_stream_received = on_stream_received_handler\n",
        "\n",
        "print(\"Listening to streams. Press CTRL-C to exit.\")\n",
        "\n",
        "# Handle termination signals and provide a graceful exit\n",
        "qx.App.run()"
      ],
      "metadata": {
        "id": "anwH3Fid_XO8"
      },
      "execution_count": null,
      "outputs": []
    }
  ]
}